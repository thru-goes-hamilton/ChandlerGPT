{
 "cells": [
  {
   "cell_type": "code",
   "execution_count": 61,
   "metadata": {},
   "outputs": [],
   "source": [
    "import re\n",
    "import json"
   ]
  },
  {
   "cell_type": "code",
   "execution_count": 62,
   "metadata": {},
   "outputs": [],
   "source": [
    "file_path = \"data\\custom_generated_dailogues2.txt\""
   ]
  },
  {
   "cell_type": "code",
   "execution_count": 63,
   "metadata": {},
   "outputs": [],
   "source": [
    "with open(file_path, \"r\", encoding=\"utf-8\") as file:\n",
    "    content = file.read()"
   ]
  },
  {
   "cell_type": "code",
   "execution_count": 64,
   "metadata": {},
   "outputs": [],
   "source": [
    "content = content.replace(\"*\",\"\")\n",
    "content = content.replace(\"\\t\",\"\")\n",
    "content = content.replace(\"-\",\"\")"
   ]
  },
  {
   "cell_type": "code",
   "execution_count": 65,
   "metadata": {},
   "outputs": [],
   "source": [
    "dialogues = content.split(\"\\n\")\n",
    "# print(dialogues)"
   ]
  },
  {
   "cell_type": "code",
   "execution_count": null,
   "metadata": {},
   "outputs": [],
   "source": [
    "final_dialogues = []\n",
    "for dialogue in dialogues:\n",
    "    cleaned_dialogue = dialogue.replace(\"Q:\",\"\")\n",
    "    dialogue_list = [item.strip() for item in cleaned_dialogue.split(\"A:\")]\n",
    "    dialogue_dict = {\"instruction\": \"You are Chandler Bing from FRIENDS TV show. Converse with the user.\", **dict(zip([\"input\", \"output\"], dialogue_list))}\n",
    "    final_dialogues.append(dialogue_dict)\n",
    "\n",
    "print(final_dialogues)"
   ]
  },
  {
   "cell_type": "code",
   "execution_count": 67,
   "metadata": {},
   "outputs": [],
   "source": [
    "json_result = json.dumps(final_dialogues, ensure_ascii=False)\n",
    "\n",
    "with open(\"dialogues.json\", \"w\") as json_file:\n",
    "    json_file.write(json_result)"
   ]
  }
 ],
 "metadata": {
  "kernelspec": {
   "display_name": "chandlergpt_venv",
   "language": "python",
   "name": "python3"
  },
  "language_info": {
   "codemirror_mode": {
    "name": "ipython",
    "version": 3
   },
   "file_extension": ".py",
   "mimetype": "text/x-python",
   "name": "python",
   "nbconvert_exporter": "python",
   "pygments_lexer": "ipython3",
   "version": "3.11.9"
  }
 },
 "nbformat": 4,
 "nbformat_minor": 2
}
