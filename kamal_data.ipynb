{
 "cells": [
  {
   "cell_type": "code",
   "execution_count": null,
   "metadata": {},
   "outputs": [],
   "source": [
    "list_sarcastic_3500_7000=[3503,3530,3541,3543,3551,3556,3558,3562,3585,3709,3775,3776,3777,3783,3793,3801,3973,4102]\n"
   ]
  },
  {
   "cell_type": "markdown",
   "metadata": {},
   "source": [
    "\n",
    "#4063\n",
    "For 3503, previous 2 also for context<br>\n",
    "For 3530, context should be someone disappointed with chandler's opinion.<br>\n",
    "For 3543, context should be for a serious reaction to chandler's sarcasm<br>\n",
    "For 3551, context should be something like we have become close<br>\n",
    "For 3556, context should be some pun with \"We'll call it --pun--\"<br>\n",
    "For 3558, context should be some pun or joke<br>\n",
    "For 3562, context should be talking anything about art<br>\n",
    "For 3585, context should be user telling you can't do smtg<br>\n",
    "For 3709, context should be user complaining about nicknames<br>\n",
    "General, smtg like \"I gotta ask, who {says or does something unique}\" for context of user saying or doing something unique\n",
    "For 3775, context is advice on a speech<br>\n",
    "For 3776, context is 3775 and current<br>\n",
    "For 3777, context is saying gonna do smtg alone<br>\n",
    "For 3791, context is suggesting wrong solution about smtg<br>\n",
    "For 3801, context is anything about failing<br>\n",
    "For 3973, context is user talking about some feminine activity<br>\n",
    "For 4102, context is user repeated chandler's joke<br>\n",
    "\n"
   ]
  },
  {
   "cell_type": "code",
   "execution_count": null,
   "metadata": {},
   "outputs": [],
   "source": [
    "len(list_sarcastic_3500_7000)"
   ]
  }
 ],
 "metadata": {
  "language_info": {
   "name": "python"
  }
 },
 "nbformat": 4,
 "nbformat_minor": 2
}
