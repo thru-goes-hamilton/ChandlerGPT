{
 "cells": [
  {
   "cell_type": "code",
   "execution_count": null,
   "metadata": {},
   "outputs": [],
   "source": [
    "list = [0, 1, 2, 6, 7, 8, 9, 11, 12, 14, 20, 22, 25, 27, 28, 30, 31, 33, 35, 36, 41, 42, 45, 47, 48, 49, 51, 53, 54, 59, 62, 63, 66, 68, 70, 71, 72, 73, 75, 78, 84, 86, 87, 91, 92, 93, 94, 97, 99, 112, 115, 126, 137, 163, 164, 165, 166, 173,186, 188, 198, 215, 221, 224, 233, 241, 247, 265, 312, 315, 326, 334, 365, 381, 475 ]"
   ]
  },
  {
   "cell_type": "code",
   "execution_count": null,
   "metadata": {},
   "outputs": [],
   "source": [
    "print(len(list))"
   ]
  },
  {
   "cell_type": "markdown",
   "metadata": {},
   "source": [
    "45 context is in 43 \n",
    "48 context in 47\n",
    "53 is in context 51, 52\n",
    "54 context is when someone is talking about something that doesnt make sense\n",
    "59 context is when someone wants you to help without any work being out there\n",
    "62, 63 context is whenever someone is jerking too much or any pornographic reference\n",
    "66 context whenever you arent supposed to have anything\n",
    "68 context is smoking\n",
    "70 whenever something good happens but you think its bad\n",
    "87 context everytime someone says \"sorry\" after doing something bad\n",
    "99 context when something is very bad\n",
    "126 context everytime some is nagging\n",
    "163 context when u dont know how to talk to someone\n",
    "215 context everytime someone says someething disturbing\n",
    "221 context how to talk to girl\n",
    "247 context when someone thinks you are gay\n",
    "265 context someone says something terrifying\n",
    "312 context when u do something wrong\n",
    "315 context when u arent allowed to do something\n",
    "326 context whenever user annoying\n",
    "334 when user is horny\n",
    "365 when user cracks a joke\n",
    "381 when user thinks something obvious\n",
    "475 when user is being emotional"
   ]
  },
  {
   "cell_type": "code",
   "execution_count": null,
   "metadata": {},
   "outputs": [],
   "source": []
  }
 ],
 "metadata": {
  "language_info": {
   "name": "python"
  }
 },
 "nbformat": 4,
 "nbformat_minor": 2
}
