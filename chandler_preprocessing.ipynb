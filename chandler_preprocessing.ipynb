{
 "cells": [
  {
   "cell_type": "code",
   "execution_count": 3,
   "metadata": {},
   "outputs": [],
   "source": [
    "import pandas as pd "
   ]
  },
  {
   "cell_type": "code",
   "execution_count": 4,
   "metadata": {},
   "outputs": [],
   "source": [
    "df = pd.read_csv(\"chandler_dialogues.csv\")"
   ]
  },
  {
   "cell_type": "code",
   "execution_count": 5,
   "metadata": {},
   "outputs": [
    {
     "data": {
      "text/html": [
       "<div>\n",
       "<style scoped>\n",
       "    .dataframe tbody tr th:only-of-type {\n",
       "        vertical-align: middle;\n",
       "    }\n",
       "\n",
       "    .dataframe tbody tr th {\n",
       "        vertical-align: top;\n",
       "    }\n",
       "\n",
       "    .dataframe thead th {\n",
       "        text-align: right;\n",
       "    }\n",
       "</style>\n",
       "<table border=\"1\" class=\"dataframe\">\n",
       "  <thead>\n",
       "    <tr style=\"text-align: right;\">\n",
       "      <th></th>\n",
       "      <th>chandler_dialogue</th>\n",
       "      <th>dialogues_since_last_chandler</th>\n",
       "      <th>intervening_dialogues</th>\n",
       "    </tr>\n",
       "  </thead>\n",
       "  <tbody>\n",
       "    <tr>\n",
       "      <th>0</th>\n",
       "      <td>All right Joey, be nice. So does he have a hum...</td>\n",
       "      <td>4</td>\n",
       "      <td>['Written by: Marta Kauffman &amp; David Crane', '...</td>\n",
       "    </tr>\n",
       "    <tr>\n",
       "      <th>1</th>\n",
       "      <td>Sounds like a date to me.</td>\n",
       "      <td>3</td>\n",
       "      <td>['Phoebe: Wait, does he eat chalk?', \"Phoebe: ...</td>\n",
       "    </tr>\n",
       "    <tr>\n",
       "      <th>2</th>\n",
       "      <td>Alright, so I'm back in high school, I'm stand...</td>\n",
       "      <td>0</td>\n",
       "      <td>[]</td>\n",
       "    </tr>\n",
       "    <tr>\n",
       "      <th>3</th>\n",
       "      <td>Then I look down, and I realize there's a phon...</td>\n",
       "      <td>1</td>\n",
       "      <td>['All: Oh, yeah. Had that dream.']</td>\n",
       "    </tr>\n",
       "    <tr>\n",
       "      <th>4</th>\n",
       "      <td>That's right.</td>\n",
       "      <td>1</td>\n",
       "      <td>['Joey: Instead of...?']</td>\n",
       "    </tr>\n",
       "  </tbody>\n",
       "</table>\n",
       "</div>"
      ],
      "text/plain": [
       "                                   chandler_dialogue  \\\n",
       "0  All right Joey, be nice. So does he have a hum...   \n",
       "1                          Sounds like a date to me.   \n",
       "2  Alright, so I'm back in high school, I'm stand...   \n",
       "3  Then I look down, and I realize there's a phon...   \n",
       "4                                      That's right.   \n",
       "\n",
       "   dialogues_since_last_chandler  \\\n",
       "0                              4   \n",
       "1                              3   \n",
       "2                              0   \n",
       "3                              1   \n",
       "4                              1   \n",
       "\n",
       "                               intervening_dialogues  \n",
       "0  ['Written by: Marta Kauffman & David Crane', '...  \n",
       "1  ['Phoebe: Wait, does he eat chalk?', \"Phoebe: ...  \n",
       "2                                                 []  \n",
       "3                 ['All: Oh, yeah. Had that dream.']  \n",
       "4                           ['Joey: Instead of...?']  "
      ]
     },
     "execution_count": 5,
     "metadata": {},
     "output_type": "execute_result"
    }
   ],
   "source": [
    "df.head()"
   ]
  },
  {
   "cell_type": "code",
   "execution_count": null,
   "metadata": {},
   "outputs": [],
   "source": []
  }
 ],
 "metadata": {
  "kernelspec": {
   "display_name": "chandlergpt_venv",
   "language": "python",
   "name": "python3"
  },
  "language_info": {
   "codemirror_mode": {
    "name": "ipython",
    "version": 3
   },
   "file_extension": ".py",
   "mimetype": "text/x-python",
   "name": "python",
   "nbconvert_exporter": "python",
   "pygments_lexer": "ipython3",
   "version": "3.11.3"
  }
 },
 "nbformat": 4,
 "nbformat_minor": 2
}
